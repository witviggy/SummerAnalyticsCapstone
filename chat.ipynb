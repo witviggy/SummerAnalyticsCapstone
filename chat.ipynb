{
 "cells": [
  {
   "cell_type": "code",
   "execution_count": 33,
   "metadata": {},
   "outputs": [],
   "source": [
    "import os\n",
    "import numpy as np\n",
    "import faiss\n",
    "from PyPDF2 import PdfReader\n",
    "from sentence_transformers import SentenceTransformer, util\n",
    "from google.generativeai import GenerativeModel, configure\n",
    "from dotenv import load_dotenv"
   ]
  },
  {
   "cell_type": "code",
   "execution_count": 34,
   "metadata": {},
   "outputs": [
    {
     "name": "stdout",
     "output_type": "stream",
     "text": [
      "API Key Loaded: True\n"
     ]
    }
   ],
   "source": [
    "# Load environment variables\n",
    "load_dotenv()\n",
    "\n",
    "# Configure Google Generative AI with API key\n",
    "configure(api_key=os.getenv(\"GOOGLE_API_KEY\"))\n",
    "print(\"API Key Loaded:\", os.getenv(\"GOOGLE_API_KEY\") is not None)\n",
    "\n",
    "# Load pre-trained Sentence Transformer model\n",
    "model = SentenceTransformer('all-MiniLM-L6-v2')"
   ]
  },
  {
   "cell_type": "code",
   "execution_count": 35,
   "metadata": {},
   "outputs": [],
   "source": [
    "def extract_text_from_pdf(pdf_path):\n",
    "    \"\"\"Extract text from a PDF file.\"\"\"\n",
    "    with open(pdf_path, 'rb') as file:\n",
    "        reader = PdfReader(file)\n",
    "        text = ''.join(page.extract_text() for page in reader.pages)\n",
    "    return text\n",
    "\n",
    "def split_into_sections(text, section_length=500):\n",
    "    \"\"\"Split text into sections of approximately `section_length` words.\"\"\"\n",
    "    words = text.split()\n",
    "    sections = [' '.join(words[i:i + section_length]) for i in range(0, len(words), section_length)]\n",
    "    return sections\n",
    "\n",
    "def embed_text(text):\n",
    "    \"\"\"Embed the text using the Sentence Transformer model.\"\"\"\n",
    "    return model.encode(text, convert_to_tensor=True)\n"
   ]
  },
  {
   "cell_type": "code",
   "execution_count": 36,
   "metadata": {},
   "outputs": [],
   "source": [
    "def create_faiss_index(embeddings):\n",
    "    \"\"\"Create and return a FAISS index.\"\"\"\n",
    "    dimension = embeddings.shape[1]\n",
    "    index = faiss.IndexFlatL2(dimension)\n",
    "    index.add(embeddings)\n",
    "    return index\n",
    "\n",
    "def query_gemini(question, history=[]):\n",
    "    \"\"\"Query the Gemini model and return the response.\"\"\"\n",
    "    model = GenerativeModel(\"gemini-1.5-pro\")\n",
    "    chat = model.start_chat(history=history)\n",
    "    response = chat.send_message(question, stream=True)\n",
    "    response.resolve()  # Ensure response is fully resolved\n",
    "    return response, chat.history\n",
    "\n",
    "def perform_query(query, index, sections):\n",
    "    \"\"\"Perform the query using FAISS search and Gemini model.\"\"\"\n",
    "    query_embedding = embed_text(query)\n",
    "    D, I = index.search(np.array([query_embedding]), k=3)\n",
    "    docs = [sections[i] for i in I[0]]\n",
    "    combined_docs = \" \".join(docs)\n",
    "    question = f\"{combined_docs}\\n\\n{query}\"\n",
    "    response, chat_history = query_gemini(question, history=[])\n",
    "    response_text = \"\".join(chunk.text for chunk in response)\n",
    "    return response_text"
   ]
  },
  {
   "cell_type": "code",
   "execution_count": 37,
   "metadata": {},
   "outputs": [],
   "source": [
    "# Paths to the PDF files\n",
    "pdf_path = 'jio.pdf'\n",
    "\n",
    "# Extract and process text from the PDFs\n",
    "text = extract_text_from_pdf(pdf_path)\n",
    "sections = split_into_sections(text)\n",
    "\n",
    "# Embed the text and create FAISS index\n",
    "embeddings = embed_text(sections)\n",
    "index = create_faiss_index(embeddings)"
   ]
  },
  {
   "cell_type": "code",
   "execution_count": 38,
   "metadata": {},
   "outputs": [],
   "source": [
    "# Personal details and bot context\n",
    "personal_details = {\n",
    "    \"name\": \"Rahul Sharma\",\n",
    "    \"dob\": \"1990-01-15\",\n",
    "    \"address\": \"123, Maple Street, Sector 45, Gurgaon, Haryana, 122003\",\n",
    "    \"mobile\": \"+91 9876543210\",\n",
    "    \"email\": \"rahul.sharma@example.com\"\n",
    "}"
   ]
  },
  {
   "cell_type": "code",
   "execution_count": 52,
   "metadata": {},
   "outputs": [],
   "source": [
    "bot_context = \"You are a Jio customer support staff. Answer questions very precisely. If anything asked irrelevant to jio, politely avoid the question.\"\n",
    "query = \"What are the new plans introduced in jio?\"\n",
    "personal_details_str = \" \".join([f\"{key}: {value}\" for key, value in personal_details.items()])\n",
    "question = f\"{text}\\n\\n{personal_details_str}\\n\\n{bot_context}\\n\\n{query}\"\n",
    "# Perform the query and print the response\n",
    "response_text = perform_query(query, index, sections)"
   ]
  },
  {
   "cell_type": "code",
   "execution_count": 53,
   "metadata": {},
   "outputs": [
    {
     "name": "stdout",
     "output_type": "stream",
     "text": [
      "Query : What are the new plans introduced in jio?\n",
      "Answer : The press release outlines the following changes to Jio's plans:\n",
      "\n",
      "**Key Points:**\n",
      "\n",
      "* **Focus on Unlimited 5G:** Jio emphasizes its continued offering of truly unlimited 5G data on its leading plans (2GB/day and above) at no extra cost.\n",
      "* **Price Increases:** While the exact details are unclear for all plans, the \"Tariff Table\" suggests a general price increase across popular unlimited voice and SMS plans.  \n",
      "* **New Plans Effective Date:** The new plans go into effect on **July 3rd, 2024**.\n",
      "* **JioBharat/JioPhone Unaffected:** Tariffs for these plans remain unchanged, emphasizing affordability for feature phone users.\n",
      "\n",
      "**New Applications (Free for a year):**\n",
      "\n",
      "* **JioSafe:** Quantum-secure communication app (calls, messaging, file transfer) - regular price Rs 199/month.\n",
      "* **JioTranslate:** AI-powered multilingual translation for voice, text, and images - regular price Rs 99/month.\n",
      "\n",
      "**Example Tariff Changes (Limited Information):**\n",
      "\n",
      "The provided table only shows price changes for a few plans. Here are some examples:\n",
      "\n",
      "* **28-day Validity:** 2GB/day plan increases from Rs 299 to Rs 349.\n",
      "* **56-day Validity:** 2GB/day plan increases from Rs 533 to Rs 629. \n",
      "\n",
      "**Note:** The press release lacks complete information on all the new plan options and their specific benefits. To get a full understanding, you would need to refer to Jio's official website or communication channels after July 3rd, 2024. \n",
      "\n"
     ]
    }
   ],
   "source": [
    "print(\"Query :\", query)\n",
    "print(\"Answer :\", response_text)"
   ]
  },
  {
   "cell_type": "code",
   "execution_count": null,
   "metadata": {},
   "outputs": [],
   "source": []
  }
 ],
 "metadata": {
  "kernelspec": {
   "display_name": "myenv",
   "language": "python",
   "name": "python3"
  },
  "language_info": {
   "codemirror_mode": {
    "name": "ipython",
    "version": 3
   },
   "file_extension": ".py",
   "mimetype": "text/x-python",
   "name": "python",
   "nbconvert_exporter": "python",
   "pygments_lexer": "ipython3",
   "version": "3.11.5"
  }
 },
 "nbformat": 4,
 "nbformat_minor": 2
}
